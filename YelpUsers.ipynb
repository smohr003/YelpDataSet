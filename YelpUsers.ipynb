{
 "cells": [
  {
   "cell_type": "code",
   "execution_count": 3,
   "metadata": {
    "collapsed": true
   },
   "outputs": [],
   "source": [
    "#  \n",
    "# Extract data from json files  and with some exploratory data analysis \n",
    "#\n",
    "# Author:   Shahram Mohrehkesh <smohr003@odu.edu>\n",
    "# Created:  June 31  2016 \n",
    "\n",
    "# Copyright (C) 2016  \n",
    "# For license information, see LICENSE.txt\n",
    "#\n",
    " \n",
    "\"\"\"\n",
    "Extract data from json files and some initial data exploratory \n",
    "\"\"\"\n",
    "\n",
    "##########################################################################\n",
    "## Imports\n",
    "##########################################################################\n",
    "\n",
    "from datetime import date\n",
    "import json\n",
    "\n",
    "import pandas as pd "
   ]
  },
  {
   "cell_type": "code",
   "execution_count": 4,
   "metadata": {
    "collapsed": false
   },
   "outputs": [
    {
     "name": "stdout",
     "output_type": "stream",
     "text": [
      "[{'fans': 70, 'user_id': '18kPq7GPye-YQ3LyKyAZPw', 'compliments': {'profile': 8, 'plain': 25, 'note': 20, 'photos': 14, 'hot': 48, 'writer': 9, 'funny': 11, 'more': 3, 'cute': 15, 'cool': 78}, 'name': 'Russel', 'yelping_since': '2004-10', 'friends': ['rpOyqD_893cqmDAtJLbdog', '4U9kSBLuBDU391x6bxU-YA', 'fHtTaujcyKvXglE33Z5yIw', '8J4IIYcqBlFch8T90N923A', 'wy6l_zUo7SN0qrvNRWgySw', 'HDQixQ-WZEV0LVPJlIGQeQ', 'T4kuUr_iJiywOPdyM7gTHQ', 'z_5D4XEIlGAPjG3Os9ix5A', 'i63u3SdbrLsP4FxiSKP0Zw', 'pnrGw4ciBXJ6U5QB2m0F5g', 'ytjCBxosVSqCOQ62c4KAxg', 'r5uiIxwJ-I-oHBkNY2Ha3Q', 'niWoSKswEbooJC_M7HMbGw', 'kwoxiKMyoYjB1wTCYAjYRg', '9A8OuP6XwLwnNb9ov3_Ncw', '27MmRg8LfbZXNEHkEnKSdA', 'Bn4sJUTtKFZQt0FKHF2Adw', 'uguXfIEpI65jSCH5MgUDgA', '6VZNGc2h2Bn-uyuEXgOt5g', 'AZ8CTtwr-4sGM2kZqF6qig', 'S742m-AuQicMSLDdErrLZQ', 'uGmQ6ab4iVpWn5m61VFhkQ', 'GJYJX4SujVj3BR8v2F9PDQ', '3shjifK-vZkIHciyy_KbYA', '4lc_H2Cf7CO0tCgyA3aSVQ', 'Tunkp_F1R_uFBJQTsDxD4g', 'B9pKfr27czBbCoAIircZdQ', 'pePGMO6EbDpbaZ7D2m6HIg', 'XRM8W6HUoXbrYKR3BCj9Rg', '8DqIWXsKXOipfduYEfFpNw', 'dvRVX54Z9f7Om51NsTRX1w', 'CM0saLQmk4oAB17UmQTV-g', 'HANb8-8InWnju-XzBQQSBw', 'JuJeZeQJgv7bUreY7a1SlQ', '2NVVEEYhhoVELdaPILFrDQ', 'e4M9_S-ASmRys3DvKQfotw', 'XA109o963exKgoVGcg9z7w', 'tVAKdax3Jbf24R7OJB99JQ', 'OMWT-Z6OnJLcg44lCuDuhw', 'd82F_FFtowYtjGtxRySehA', 'pW91HUnVz6ssLZ4dY-ztyQ', 'ojQYtstkGXtcryk5I9GTYA', '4hxVql33ldY_gkf3rG8_3w', '0arQ82n4mvrc42U8KuoE6g', 'w6Vv-kldGpmvSGqXvTbAdQ', 'NZeCINmoOJ8vsQvYkZAp9w', 'n9ltC5DxMjefffeMfBgcXQ', 'QBj2AL66bEAmK3ULkrn1Gw', 'ayZlWyV1M2k_UWx1dreIDg', 'AG1KRDkIa8QCCPsMnINEOg', 'P-lfV8cdAgEOZJkw2dJpsw', '7Pef9EA21szXXOPJo6Gb5w', 'YvtRBqCqhSIhGGREqcqnQw', '8M7I2-s5nQ8LSkuCvN0Xqg', '-ETxy7f37BBQXhw5zJfkrQ', 'TjPt2hD56jfpmtoa6kVVRg', 'uZgFEPEUIWJMaaqvMlxYoA', 'foIpFZp5EwvUDSnyMKKAnQ', 'YKppbE7ogNmbtVrluxEF4A', 'D7uXj1_0pE_Fa2YeLkOkyw', 'eVV99D3EZvkuswIvIySKiw', 'PhwgVPqpJlxu40AxAOUBbg', 'gWcz4QFTW76q8VtpIlZEHQ', 'wpcoiQNbO5x0xkZwKFVUFw', 'Ot-QjYpIdVsluuxcqidjkA', 'E3C_gEhktux9Ca-Z2fmNTw', 'ClaGLOr72DPJlQhRc9HHyQ', 'sc6wS6YOFIgtN2XuJI8_WQ', 'dD5mA6kwVlBHvrNtX9EyZQ', 'qwvgycPC5u4JZv6DfawPqw', 'As_oVE27fiE-0CbDJwUDiA', 'SuzSrMWoycf4DXL_DMMdNg', 'y0SRKlzVuvj-mbQtbsWx-A', 'qbfQRHLvZk5WSkKY0l_lMw', 'D6A0rn5MIg7AVRrVeouABg', 'KUqpJ9eKREuvlnlitJJRYg', 'gOvKWYXobX_Pgzsz-K8auA', 'xzdZTsR2KKcQfjF4OjJeOw', 'DyfA7aPzRQ81kJnbkuIiJQ', 'tA2suyZG_qWIuNB_HR-YRA', 'R5QmtpSsrQ9mqIxjZIv3uw', '5T8SdBwiH0jdwatUJ7KFUg', '1Gfn4nlqPEIvRX4cnctJlg', 'A4_fxqSj4tgYet8OE3jTyA', 'oPD_t6BVpfhvu1-TS4FNzA', 'gn3Y0mWduWrvT1hvu7fv4A', 'NUeLSLukiPPCSK6EVdUo_Q', 'rtrh46NJfksxR4TgljYg9w', '5zpVMWD-q6nEYapiWrSyXw', 'ooZ7TV6IuxuqbFgnqaoSsQ', '8phGuOZ0NIfeJiTX-ZDZLA', '8L1p_zlmAB_uWyaW0QTaCg', 's7ZSag-bHo0C4fSBDJeBDw', '5ANDwUyQqsRhEl7QBKRFiw', 'KMGF6KAnPRoOTFVXBy9jtQ', 'aLz2ljnMweZUlvP-q4TayQ', '6uM5lx0DCX4ctQlebtxraw', 'Hc6agWZ9jGCxsPAqQwlf2w', 'z39ulrgtvEMB2oeokx0-mw', 'wLt28qh-46LFhKOeByWZ0w', 'p4Jg_rO_AsCWZGMd_w8xjw', 'pJppmQyW74ejj8xCa2SHuA', 'hzaqnSxfRYv_Wbp6CMKtQw', '0QwV8PJk9PJDFaMNw1Fcsw', '6pC5j-hfP4xLZB2W0Wi1vg', '8nAj60xsBjcHXLLSs7cPqw', 'NhbV8AbaQiKNzEU11cbxcQ', '5Szwd1CSepRXwAFH12nPzQ', 'ifD7o8Mi67yNYwgWL5CbKg', 'AaZdXn0I6F5bdIVwGpxdDA', 'YwcacxA7WCB9fryDHDxF8w', 'HBFtzjRarXxDH8xZRSNsPA', 'zi0kxtr5gq0Flg7jYdIlMA', 'oWEdmTYl13VHh1A_Mkhh2g', 'n1GSQ7VT9sTL5MlCWolbNw', 'PO8XNxGUizzzKGHmn24fQQ', 'JTRxzA1AZ8Zfwj7FpH2CnA', 'AixLPxra_4HirfchjPkiWA', 'xOK3i0wgmkpGu54BuIcwQA', 'F9T6m1YdRFreyKDufcyoOQ', '-cscgA-lVPipPwEX4RmcgQ', 'ACLuEsNHV7lfq1O7CHuFaA', 'UyOtYjnavsr-Dtjo6Xy91g', 'J11gYVC1u9S5jqEg3oh-gQ', '9LZP7Ll7N9zkuWfA5DUAYw', 'SbM1m5nejHDD1pJePsar9g', 'wF7_-zf7R8Rri7Kq-a0tlw', 'B5o7JC4iRJ7bKPRnoYEIHg', 'SAPz30NHFJ95SBlvz5cTqw', 'fzkO1lGkx8MHhT8S4Rbg3w', 'tlSSQwfHYJany7wPoTH46A', '2VfhMrTJ9bZ0O4PZmRmxKA', 'odeoZZHRQp6TkeoEQk3eeA', '2XCsVpAMsGUykrM-BBFEXA', 'qVePixO2kuK0Dr03upCWFg', 'D9CIW04wrcQzZNdCEoASAg', 'G-iuXcbJnX3sA3lhB6nFhQ', '3utEqyNzFcxH8E8pm7ByPA', 'T5TZfn9_9X-LTbRtaMAgUw', 'fczQCSmaWF78toLEmb0Zsw', 'Hyhmpb3UnbjtSEXvgviCow', 'FI-Fjxr3fUBx2q7icnqcfA', 'S8ZY1HEDoECqKrIUY34JOg', '3JtdBvnY6Wzp22gt5zFwDg', '470dZswdTHz5aaGPvIYNpg', 'JT5kM6wRwh7cNt8IAuX_sw', 'r7V9Nhes-Eg-lH0cqfpFFw', '2m3lE8p8T2nFRDxIUaRXew', 'bZFRqP7s0Vszxeu8_IwYow', 'snd45oedwXxF9tsHUX_6dg', '8jEK8gxHYg9w6sINujO0MQ', 'LTWY2Ee-SYu8ItVOebD3CQ', '7zpDhrRZRTGCkAh3SHbEww', 'NSg7k2UFt_HqM2mvsw-n0w', 'egdj4-wXAzYzT5bmTAHYqQ', 'wxhf-RSExCGECZuz_iVV7w', 'C6IOtaaYdLIT5fWd7ZYIuA', 'jntSRFnN_O7QfFzZo24rvA', 'yfQwWLYtqwHKiky1hiTBew', 'WZgoM8UuzxjZf1AaWx3qZQ', 'cNj8rheuldPDX9zF6q2yaA', 'OqOCMRpVNvvdPDMhoG_DCA', '9ZonzxW0DAqIUO_5tDqZig', 'rLQNlHnIKdtoqoU77CbEUQ', 'LbgQK5B_5IkN77FgRJHhrg', 'it23EnutJ6fOjeYQBDKJug', '1XWzXgFvcu5pU2wj1ONQ_Q', '92j9xiUMOsM3HviIGoR8Yg', 'AP6udBIStvWLY0T5rS_24A', 'G_PCzMHcOLoMyyEsxW1DFQ', 'ZuQ87LQYWRw3AHj-jEiQ1Q', 'zdutsCEMdvc0B8s3_XN3nQ', 'fRbbPPUdMCmL9o39yshi2g', 'pjgE1d3csesAkgn6rQI_RQ', 'C7nUczj6n0ouxWqp1I7cNQ', 'D8EE4gbAiXS3DF_HNRJfAw', 'Milv8k4zZsoCaNFZugKtJw', 'GALRNo-AbcAHxEdmqKl--w', 'XOe-I25-W_FnbYfQyafylw', 'kuP0AMnSGgkLfNSt0wOAgA', 'EwMgdjuPXLAuxxu3IOUyKA', 'Mx-vxv_V-SQCe76w4RmUfA', '6xxVdJBdMREj1fCqjm6UtA', 'm61SjiXAIlOY1qAXOHEk4Q', 'R4sYowLqQQEpxWjQbqaFvg', 'OCkge7lzOw33bqMs1244Yw', 'rjJJ8QQg-eqb7mgMxArgBA', 'T_wjLgPOPXry7Bea4MzoVQ', 'hBwbBaBqofCgvkJ3PatuVw', 'epTMlecM8SZNjDhBsd64Jg', 'PUMROYfbVgKypcfJNxs1mw', '82ZqgHOfUMV1xtpG2KfisA', 'IN2HcBun5PpyfQK8OC68iw', 'yQZL8MTulNh3d3de-N0oug', 'nZFcWvgPU8T4JCjOVvJU8Q', 'jIuc3nM9R0KWX3v-8OyLsQ', 'F1oGgK3NtTYnyRMxupiiuA', 'nGYaT5sAuqKkd48dqX_2Kw', 'NzP9OoNP8vBMRUSs0UXBNw', 'ZTs-go-xYRQOp3PSw_XGDg', 'gc4rNAgbGydNMAPJ85FZag', 'KYuljD4Tovti3J1pdBnT4g'], 'average_stars': 4.14, 'votes': {'funny': 167, 'useful': 280, 'cool': 245}, 'review_count': 108, 'elite': [2005, 2006], 'type': 'user'}]\n"
     ]
    }
   ],
   "source": [
    "data = []\n",
    "with open('yelp_academic_dataset_user.json') as f:\n",
    "    for line in f:\n",
    "        #print(line)\n",
    "        data.append(json.loads(line))   \n",
    "print(data[:1])\n"
   ]
  },
  {
   "cell_type": "code",
   "execution_count": 5,
   "metadata": {
    "collapsed": false
   },
   "outputs": [
    {
     "name": "stdout",
     "output_type": "stream",
     "text": [
      "Russel\n"
     ]
    },
    {
     "data": {
      "text/plain": [
       "552339"
      ]
     },
     "execution_count": 5,
     "metadata": {},
     "output_type": "execute_result"
    }
   ],
   "source": [
    "print(data[0]['name'])\n",
    "t = data[0]\n",
    "len(data)"
   ]
  },
  {
   "cell_type": "code",
   "execution_count": 6,
   "metadata": {
    "collapsed": false
   },
   "outputs": [
    {
     "name": "stdout",
     "output_type": "stream",
     "text": [
      "552339\n"
     ]
    }
   ],
   "source": [
    "uniqueUsersIDs = set()\n",
    "\n",
    "for i in range(len(data)): \n",
    "    #if i==0: print(set(data[i]['friends']))\n",
    "    uniqueUsersIDs.add(data[i]['user_id'])\n",
    "    for f in data[i]['friends']: \n",
    "        uniqueUsersIDs.add(f)\n",
    "print(len(uniqueUsersIDs))"
   ]
  },
  {
   "cell_type": "code",
   "execution_count": 7,
   "metadata": {
    "collapsed": true
   },
   "outputs": [],
   "source": [
    "pdData = pd.DataFrame(data)"
   ]
  },
  {
   "cell_type": "code",
   "execution_count": 8,
   "metadata": {
    "collapsed": false
   },
   "outputs": [
    {
     "name": "stdout",
     "output_type": "stream",
     "text": [
      "3\n"
     ]
    }
   ],
   "source": [
    "print(pdData.iloc[100]['review_count'])"
   ]
  },
  {
   "cell_type": "code",
   "execution_count": 9,
   "metadata": {
    "collapsed": false
   },
   "outputs": [
    {
     "name": "stdout",
     "output_type": "stream",
     "text": [
      "27.6317370311\n"
     ]
    }
   ],
   "source": [
    "print(sum(pdData[:]['review_count'])/len(pdData))"
   ]
  },
  {
   "cell_type": "code",
   "execution_count": 10,
   "metadata": {
    "collapsed": false
   },
   "outputs": [
    {
     "name": "stdout",
     "output_type": "stream",
     "text": [
      "Populating the interactive namespace from numpy and matplotlib\n"
     ]
    },
    {
     "name": "stderr",
     "output_type": "stream",
     "text": [
      "WARNING: pylab import has clobbered these variables: ['f']\n",
      "`%matplotlib` prevents importing * from pylab and numpy\n"
     ]
    }
   ],
   "source": [
    "%pylab inline\n",
    "import matplotlib.pyplot as plt"
   ]
  },
  {
   "cell_type": "code",
   "execution_count": 11,
   "metadata": {
    "collapsed": false,
    "scrolled": true
   },
   "outputs": [
    {
     "data": {
      "text/plain": [
       "[<matplotlib.lines.Line2D at 0x15467733470>]"
      ]
     },
     "execution_count": 11,
     "metadata": {},
     "output_type": "execute_result"
    },
    {
     "data": {
      "image/png": "[encoded data removed]",
      "text/plain": [
       "<matplotlib.figure.Figure at 0x1540231e588>"
      ]
     },
     "metadata": {},
     "output_type": "display_data"
    }
   ],
   "source": [
    "plt.plot(pdData[:]['review_count'])"
   ]
  },
  {
   "cell_type": "code",
   "execution_count": 12,
   "metadata": {
    "collapsed": false
   },
   "outputs": [
    {
     "data": {
      "text/plain": [
       "<matplotlib.axes._subplots.AxesSubplot at 0x154675fa828>"
      ]
     },
     "execution_count": 12,
     "metadata": {},
     "output_type": "execute_result"
    },
    {
     "data": {
      "image/png": "[encoded data removed]",
      "text/plain": [
       "<matplotlib.figure.Figure at 0x1546779a198>"
      ]
     },
     "metadata": {},
     "output_type": "display_data"
    }
   ],
   "source": [
    "pdData['review_count'].plot.hist(bins=20, log =True)"
   ]
  },
  {
   "cell_type": "code",
   "execution_count": 13,
   "metadata": {
    "collapsed": false
   },
   "outputs": [
    {
     "name": "stdout",
     "output_type": "stream",
     "text": [
      "                       user_id  review_count\n",
      "15207   1p3d__fuRRCDXfbS1Tq0wA          8529\n",
      "120448  3zBKfA8-_fJRagWSTMLVvg          5833\n",
      "161097  VhI6xyylcAxi0wOy2HOX3w          5648\n",
      "230389  JLM36sYWmouJAZ2knzst7A         10320\n",
      "252143  22-6yC05pgWbLupHZTjQig          5050\n"
     ]
    }
   ],
   "source": [
    "print(pdData[pdData['review_count']> 4000][['user_id' ,'review_count']])"
   ]
  },
  {
   "cell_type": "code",
   "execution_count": 14,
   "metadata": {
    "collapsed": false
   },
   "outputs": [
    {
     "name": "stdout",
     "output_type": "stream",
     "text": [
      "552339\n"
     ]
    }
   ],
   "source": [
    "print(len(pdData))"
   ]
  },
  {
   "cell_type": "code",
   "execution_count": 16,
   "metadata": {
    "collapsed": false
   },
   "outputs": [
    {
     "name": "stdout",
     "output_type": "stream",
     "text": [
      "17\n"
     ]
    }
   ],
   "source": [
    "print(len(pdData.loc[12,'friends']))"
   ]
  },
  {
   "cell_type": "code",
   "execution_count": 17,
   "metadata": {
    "collapsed": false
   },
   "outputs": [
    {
     "data": {
      "text/plain": [
       "6.452227707983684"
      ]
     },
     "execution_count": 17,
     "metadata": {},
     "output_type": "execute_result"
    }
   ],
   "source": [
    "\n",
    "friendCount = pd.Series( [ len(pdData.loc[i,'friends'])    for i in range(len(pdData))] )\n",
    "friendCount.mean()"
   ]
  },
  {
   "cell_type": "code",
   "execution_count": 18,
   "metadata": {
    "collapsed": false
   },
   "outputs": [
    {
     "name": "stdout",
     "output_type": "stream",
     "text": [
      "249440\n"
     ]
    }
   ],
   "source": [
    "print(len(friendCount[friendCount!=0]))"
   ]
  },
  {
   "cell_type": "code",
   "execution_count": 19,
   "metadata": {
    "collapsed": true
   },
   "outputs": [],
   "source": [
    "pdData['friends_count'] = friendCount"
   ]
  },
  {
   "cell_type": "code",
   "execution_count": 20,
   "metadata": {
    "collapsed": false
   },
   "outputs": [
    {
     "data": {
      "text/plain": [
       "<matplotlib.collections.PathCollection at 0x1546972a320>"
      ]
     },
     "execution_count": 20,
     "metadata": {},
     "output_type": "execute_result"
    },
    {
     "data": {
      "image/png": "[encoded data removed]",
      "text/plain": [
       "<matplotlib.figure.Figure at 0x154696c56a0>"
      ]
     },
     "metadata": {},
     "output_type": "display_data"
    }
   ],
   "source": [
    "plt.scatter(pdData['friends_count'], pdData['review_count'])"
   ]
  },
  {
   "cell_type": "code",
   "execution_count": 23,
   "metadata": {
    "collapsed": false
   },
   "outputs": [
    {
     "data": {
      "text/plain": [
       "(0, 4000)"
      ]
     },
     "execution_count": 23,
     "metadata": {},
     "output_type": "execute_result"
    },
    {
     "data": {
      "image/png": "[encoded data removed]",
      "text/plain": [
       "<matplotlib.figure.Figure at 0x154715b3940>"
      ]
     },
     "metadata": {},
     "output_type": "display_data"
    }
   ],
   "source": [
    "plt.scatter(pdData['friends_count'], pdData['review_count'])\n",
    "plt.xlim(0, 2000)\n",
    "plt.ylim(0, 4000)"
   ]
  },
  {
   "cell_type": "code",
   "execution_count": 22,
   "metadata": {
    "collapsed": true
   },
   "outputs": [],
   "source": [
    "import seaborn as sns"
   ]
  },
  {
   "cell_type": "code",
   "execution_count": null,
   "metadata": {
    "collapsed": false
   },
   "outputs": [],
   "source": []
  },
  {
   "cell_type": "code",
   "execution_count": 31,
   "metadata": {
    "collapsed": false
   },
   "outputs": [
    {
     "data": {
      "text/plain": [
       "count     552339\n",
       "unique        13\n",
       "top         2014\n",
       "freq       91186\n",
       "Name: yelping_since_year, dtype: object"
      ]
     },
     "execution_count": 31,
     "metadata": {},
     "output_type": "execute_result"
    }
   ],
   "source": [
    "def getyear(yelping_since): \n",
    "    return yelping_since.split('-')[0]\n",
    "    \n",
    "pdData['yelping_since_year'] = pdData['yelping_since'].apply(getyear)\n",
    "pdData['yelping_since_year'].describe()"
   ]
  },
  {
   "cell_type": "code",
   "execution_count": 41,
   "metadata": {
    "collapsed": false
   },
   "outputs": [
    {
     "data": {
      "text/plain": [
       "132"
      ]
     },
     "execution_count": 41,
     "metadata": {},
     "output_type": "execute_result"
    }
   ],
   "source": [
    "apprxLabels = [] \n",
    "for i in range(2004,2016):\n",
    "    apprxLabels  = apprxLabels + [' ']*5 + [str(i)] +  [' ']*5\n",
    "len(apprxLabels)"
   ]
  },
  {
   "cell_type": "code",
   "execution_count": 42,
   "metadata": {
    "collapsed": false
   },
   "outputs": [
    {
     "data": {
      "text/plain": [
       "[<matplotlib.text.Text at 0x1548e169b00>,\n",
       " <matplotlib.text.Text at 0x1548e107c18>,\n",
       " <matplotlib.text.Text at 0x154912a4240>,\n",
       " <matplotlib.text.Text at 0x154912a4978>,\n",
       " <matplotlib.text.Text at 0x154912a9400>,\n",
       " <matplotlib.text.Text at 0x154912a9ef0>,\n",
       " <matplotlib.text.Text at 0x154912aca20>,\n",
       " <matplotlib.text.Text at 0x154912b0550>,\n",
       " <matplotlib.text.Text at 0x154912b3080>,\n",
       " <matplotlib.text.Text at 0x154912b3b70>,\n",
       " <matplotlib.text.Text at 0x154912b66a0>,\n",
       " <matplotlib.text.Text at 0x154912ba1d0>,\n",
       " <matplotlib.text.Text at 0x154912bacc0>,\n",
       " <matplotlib.text.Text at 0x154912bf7f0>,\n",
       " <matplotlib.text.Text at 0x154912c2320>,\n",
       " <matplotlib.text.Text at 0x154912c2e10>,\n",
       " <matplotlib.text.Text at 0x154912c6940>,\n",
       " <matplotlib.text.Text at 0x154912ca470>,\n",
       " <matplotlib.text.Text at 0x154912caf60>,\n",
       " <matplotlib.text.Text at 0x154912cda90>,\n",
       " <matplotlib.text.Text at 0x154912d15c0>,\n",
       " <matplotlib.text.Text at 0x154912d40f0>,\n",
       " <matplotlib.text.Text at 0x154912d4be0>,\n",
       " <matplotlib.text.Text at 0x154912d8710>,\n",
       " <matplotlib.text.Text at 0x154912dd240>,\n",
       " <matplotlib.text.Text at 0x154912ddd30>,\n",
       " <matplotlib.text.Text at 0x154912df860>,\n",
       " <matplotlib.text.Text at 0x154912e4390>,\n",
       " <matplotlib.text.Text at 0x154912e4e80>,\n",
       " <matplotlib.text.Text at 0x154912e79b0>,\n",
       " <matplotlib.text.Text at 0x154912ea4e0>,\n",
       " <matplotlib.text.Text at 0x154912eafd0>,\n",
       " <matplotlib.text.Text at 0x154912efb00>,\n",
       " <matplotlib.text.Text at 0x154912f2630>,\n",
       " <matplotlib.text.Text at 0x154912f5160>,\n",
       " <matplotlib.text.Text at 0x154912f5c50>,\n",
       " <matplotlib.text.Text at 0x154912fb780>,\n",
       " <matplotlib.text.Text at 0x154912fe2b0>,\n",
       " <matplotlib.text.Text at 0x154912feda0>,\n",
       " <matplotlib.text.Text at 0x154913018d0>,\n",
       " <matplotlib.text.Text at 0x15491306400>,\n",
       " <matplotlib.text.Text at 0x15491306ef0>,\n",
       " <matplotlib.text.Text at 0x15491308a20>,\n",
       " <matplotlib.text.Text at 0x1549130c550>,\n",
       " <matplotlib.text.Text at 0x15491310080>,\n",
       " <matplotlib.text.Text at 0x15491310b70>,\n",
       " <matplotlib.text.Text at 0x154913136a0>,\n",
       " <matplotlib.text.Text at 0x154913181d0>,\n",
       " <matplotlib.text.Text at 0x15491318cc0>,\n",
       " <matplotlib.text.Text at 0x1549131b7f0>,\n",
       " <matplotlib.text.Text at 0x1549131f320>,\n",
       " <matplotlib.text.Text at 0x1549131fe10>,\n",
       " <matplotlib.text.Text at 0x15491323710>,\n",
       " <matplotlib.text.Text at 0x154913261d0>,\n",
       " <matplotlib.text.Text at 0x15491326cc0>,\n",
       " <matplotlib.text.Text at 0x154913287f0>,\n",
       " <matplotlib.text.Text at 0x1549132d320>,\n",
       " <matplotlib.text.Text at 0x1549132de10>,\n",
       " <matplotlib.text.Text at 0x15491332940>,\n",
       " <matplotlib.text.Text at 0x15491336470>,\n",
       " <matplotlib.text.Text at 0x15491336f60>,\n",
       " <matplotlib.text.Text at 0x1549133aa90>,\n",
       " <matplotlib.text.Text at 0x1549133c5c0>,\n",
       " <matplotlib.text.Text at 0x154913410f0>,\n",
       " <matplotlib.text.Text at 0x15491341be0>,\n",
       " <matplotlib.text.Text at 0x15491344710>,\n",
       " <matplotlib.text.Text at 0x15491348240>,\n",
       " <matplotlib.text.Text at 0x15491348d30>,\n",
       " <matplotlib.text.Text at 0x1549134b860>,\n",
       " <matplotlib.text.Text at 0x1549134f390>,\n",
       " <matplotlib.text.Text at 0x1549134fe80>,\n",
       " <matplotlib.text.Text at 0x154913549b0>,\n",
       " <matplotlib.text.Text at 0x154913564e0>,\n",
       " <matplotlib.text.Text at 0x15491356fd0>,\n",
       " <matplotlib.text.Text at 0x1549135bb00>,\n",
       " <matplotlib.text.Text at 0x1549135e630>,\n",
       " <matplotlib.text.Text at 0x15491361160>,\n",
       " <matplotlib.text.Text at 0x15491361c50>,\n",
       " <matplotlib.text.Text at 0x15491366780>,\n",
       " <matplotlib.text.Text at 0x1549136b2b0>,\n",
       " <matplotlib.text.Text at 0x1549136bda0>,\n",
       " <matplotlib.text.Text at 0x1549136e8d0>,\n",
       " <matplotlib.text.Text at 0x15491373400>,\n",
       " <matplotlib.text.Text at 0x15491373ef0>,\n",
       " <matplotlib.text.Text at 0x15491376a20>,\n",
       " <matplotlib.text.Text at 0x15491378550>,\n",
       " <matplotlib.text.Text at 0x1549137e080>,\n",
       " <matplotlib.text.Text at 0x1549137eb70>,\n",
       " <matplotlib.text.Text at 0x154913806a0>,\n",
       " <matplotlib.text.Text at 0x154913841d0>,\n",
       " <matplotlib.text.Text at 0x15491384cc0>,\n",
       " <matplotlib.text.Text at 0x154913887f0>,\n",
       " <matplotlib.text.Text at 0x1549138b320>,\n",
       " <matplotlib.text.Text at 0x1549138be10>,\n",
       " <matplotlib.text.Text at 0x15491390940>,\n",
       " <matplotlib.text.Text at 0x15491393470>,\n",
       " <matplotlib.text.Text at 0x15491393f60>,\n",
       " <matplotlib.text.Text at 0x15491397a90>,\n",
       " <matplotlib.text.Text at 0x1549139b5c0>,\n",
       " <matplotlib.text.Text at 0x1549139f0f0>,\n",
       " <matplotlib.text.Text at 0x1549139fbe0>,\n",
       " <matplotlib.text.Text at 0x154913a1710>,\n",
       " <matplotlib.text.Text at 0x154913a7240>,\n",
       " <matplotlib.text.Text at 0x154913a7d30>,\n",
       " <matplotlib.text.Text at 0x154913aa860>,\n",
       " <matplotlib.text.Text at 0x154913ad390>,\n",
       " <matplotlib.text.Text at 0x154913ade80>,\n",
       " <matplotlib.text.Text at 0x154913b29b0>,\n",
       " <matplotlib.text.Text at 0x154913b54e0>,\n",
       " <matplotlib.text.Text at 0x154913b5fd0>,\n",
       " <matplotlib.text.Text at 0x154913b9b00>,\n",
       " <matplotlib.text.Text at 0x154913bd630>,\n",
       " <matplotlib.text.Text at 0x154913c1160>,\n",
       " <matplotlib.text.Text at 0x154913c1c50>,\n",
       " <matplotlib.text.Text at 0x154913c5780>,\n",
       " <matplotlib.text.Text at 0x154913c92b0>,\n",
       " <matplotlib.text.Text at 0x154913c9da0>,\n",
       " <matplotlib.text.Text at 0x154913cb8d0>,\n",
       " <matplotlib.text.Text at 0x154913cf400>,\n",
       " <matplotlib.text.Text at 0x154913cfef0>,\n",
       " <matplotlib.text.Text at 0x154913d6a20>,\n",
       " <matplotlib.text.Text at 0x154913d9550>,\n",
       " <matplotlib.text.Text at 0x154913dc080>,\n",
       " <matplotlib.text.Text at 0x154913dcb70>,\n",
       " <matplotlib.text.Text at 0x154913df6a0>,\n",
       " <matplotlib.text.Text at 0x154913e41d0>,\n",
       " <matplotlib.text.Text at 0x154913e4cc0>,\n",
       " <matplotlib.text.Text at 0x154913e87f0>,\n",
       " <matplotlib.text.Text at 0x154913ec320>,\n",
       " <matplotlib.text.Text at 0x154913ece10>,\n",
       " <matplotlib.text.Text at 0x154913ef940>,\n",
       " <matplotlib.text.Text at 0x154913f3470>]"
      ]
     },
     "execution_count": 42,
     "metadata": {},
     "output_type": "execute_result"
    },
    {
     "data": {
      "image/png": "[encoded data removed]",
      "text/plain": [
       "<matplotlib.figure.Figure at 0x1548e2a3828>"
      ]
     },
     "metadata": {},
     "output_type": "display_data"
    }
   ],
   "source": [
    "# avoiding the overlap of tick text \n",
    "g =sns.stripplot(pdData['yelping_since'], pdData['review_count']) \n",
    "g.set_xticklabels(rotation = 0 , labels = apprxLabels) # "
   ]
  },
  {
   "cell_type": "code",
   "execution_count": null,
   "metadata": {
    "collapsed": false
   },
   "outputs": [],
   "source": [
    "g = sns.stripplot(pdData['yelping_since'], pdData['review_count']) # \n",
    "\n",
    "plt.ylim(0, 4000)"
   ]
  },
  {
   "cell_type": "code",
   "execution_count": 227,
   "metadata": {
    "collapsed": false
   },
   "outputs": [
    {
     "name": "stdout",
     "output_type": "stream",
     "text": [
      "count      552339\n",
      "unique        136\n",
      "top       2014-07\n",
      "freq         9664\n",
      "Name: yelping_since, dtype: object\n",
      "2016-01\n",
      "2004-10\n"
     ]
    }
   ],
   "source": [
    "print(pdData['yelping_since'].describe())\n",
    "print(pdData['yelping_since'].max())\n",
    "print(pdData['yelping_since'].min())\n"
   ]
  },
  {
   "cell_type": "code",
   "execution_count": 242,
   "metadata": {
    "collapsed": false
   },
   "outputs": [
    {
     "data": {
      "text/html": [
       "<div>\n",
       "<table border=\"1\" class=\"dataframe\">\n",
       "  <thead>\n",
       "    <tr style=\"text-align: right;\">\n",
       "      <th></th>\n",
       "      <th>average_stars</th>\n",
       "      <th>fans</th>\n",
       "      <th>review_count</th>\n",
       "      <th>friends_count</th>\n",
       "    </tr>\n",
       "    <tr>\n",
       "      <th>yelping_since_year</th>\n",
       "      <th></th>\n",
       "      <th></th>\n",
       "      <th></th>\n",
       "      <th></th>\n",
       "    </tr>\n",
       "  </thead>\n",
       "  <tbody>\n",
       "    <tr>\n",
       "      <th>2004</th>\n",
       "      <td>218.62</td>\n",
       "      <td>2971</td>\n",
       "      <td>12006</td>\n",
       "      <td>5984</td>\n",
       "    </tr>\n",
       "    <tr>\n",
       "      <th>2005</th>\n",
       "      <td>2774.12</td>\n",
       "      <td>18752</td>\n",
       "      <td>181520</td>\n",
       "      <td>34343</td>\n",
       "    </tr>\n",
       "    <tr>\n",
       "      <th>2006</th>\n",
       "      <td>15744.30</td>\n",
       "      <td>46147</td>\n",
       "      <td>675744</td>\n",
       "      <td>115964</td>\n",
       "    </tr>\n",
       "    <tr>\n",
       "      <th>2007</th>\n",
       "      <td>42667.98</td>\n",
       "      <td>89991</td>\n",
       "      <td>1431759</td>\n",
       "      <td>295565</td>\n",
       "    </tr>\n",
       "    <tr>\n",
       "      <th>2008</th>\n",
       "      <td>79778.77</td>\n",
       "      <td>117443</td>\n",
       "      <td>2016577</td>\n",
       "      <td>441019</td>\n",
       "    </tr>\n",
       "    <tr>\n",
       "      <th>2009</th>\n",
       "      <td>140996.80</td>\n",
       "      <td>122038</td>\n",
       "      <td>2374371</td>\n",
       "      <td>495065</td>\n",
       "    </tr>\n",
       "    <tr>\n",
       "      <th>2010</th>\n",
       "      <td>226867.93</td>\n",
       "      <td>117224</td>\n",
       "      <td>2556388</td>\n",
       "      <td>619203</td>\n",
       "    </tr>\n",
       "    <tr>\n",
       "      <th>2011</th>\n",
       "      <td>328116.03</td>\n",
       "      <td>97284</td>\n",
       "      <td>2332948</td>\n",
       "      <td>616670</td>\n",
       "    </tr>\n",
       "    <tr>\n",
       "      <th>2012</th>\n",
       "      <td>319572.89</td>\n",
       "      <td>57057</td>\n",
       "      <td>1512467</td>\n",
       "      <td>404025</td>\n",
       "    </tr>\n",
       "    <tr>\n",
       "      <th>2013</th>\n",
       "      <td>327260.06</td>\n",
       "      <td>36862</td>\n",
       "      <td>1133845</td>\n",
       "      <td>280413</td>\n",
       "    </tr>\n",
       "    <tr>\n",
       "      <th>2014</th>\n",
       "      <td>339709.19</td>\n",
       "      <td>22459</td>\n",
       "      <td>739467</td>\n",
       "      <td>185266</td>\n",
       "    </tr>\n",
       "    <tr>\n",
       "      <th>2015</th>\n",
       "      <td>242687.53</td>\n",
       "      <td>7216</td>\n",
       "      <td>294740</td>\n",
       "      <td>70298</td>\n",
       "    </tr>\n",
       "    <tr>\n",
       "      <th>2016</th>\n",
       "      <td>4.03</td>\n",
       "      <td>0</td>\n",
       "      <td>254</td>\n",
       "      <td>2</td>\n",
       "    </tr>\n",
       "  </tbody>\n",
       "</table>\n",
       "</div>"
      ],
      "text/plain": [
       "                    average_stars    fans  review_count  friends_count\n",
       "yelping_since_year                                                    \n",
       "2004                       218.62    2971         12006           5984\n",
       "2005                      2774.12   18752        181520          34343\n",
       "2006                     15744.30   46147        675744         115964\n",
       "2007                     42667.98   89991       1431759         295565\n",
       "2008                     79778.77  117443       2016577         441019\n",
       "2009                    140996.80  122038       2374371         495065\n",
       "2010                    226867.93  117224       2556388         619203\n",
       "2011                    328116.03   97284       2332948         616670\n",
       "2012                    319572.89   57057       1512467         404025\n",
       "2013                    327260.06   36862       1133845         280413\n",
       "2014                    339709.19   22459        739467         185266\n",
       "2015                    242687.53    7216        294740          70298\n",
       "2016                         4.03       0           254              2"
      ]
     },
     "execution_count": 242,
     "metadata": {},
     "output_type": "execute_result"
    }
   ],
   "source": [
    "pdDataYear = pdData.groupby(['yelping_since_year']).sum()\n",
    "pdDataYear\n"
   ]
  },
  {
   "cell_type": "code",
   "execution_count": 253,
   "metadata": {
    "collapsed": false
   },
   "outputs": [
    {
     "data": {
      "text/plain": [
       "yelping_since_year\n",
       "2004      12006\n",
       "2005     181520\n",
       "2006     675744\n",
       "2007    1431759\n",
       "2008    2016577\n",
       "2009    2374371\n",
       "2010    2556388\n",
       "2011    2332948\n",
       "2012    1512467\n",
       "2013    1133845\n",
       "2014     739467\n",
       "2015     294740\n",
       "2016        254\n",
       "Name: review_count, dtype: int64"
      ]
     },
     "execution_count": 253,
     "metadata": {},
     "output_type": "execute_result"
    }
   ],
   "source": [
    "pdDataYear['review_count']"
   ]
  },
  {
   "cell_type": "code",
   "execution_count": 252,
   "metadata": {
    "collapsed": false
   },
   "outputs": [
    {
     "data": {
      "text/plain": [
       "[<matplotlib.lines.Line2D at 0x42575e4fa58>]"
      ]
     },
     "execution_count": 252,
     "metadata": {},
     "output_type": "execute_result"
    },
    {
     "data": {
      "image/png": "[encoded data removed]",
      "text/plain": [
       "<matplotlib.figure.Figure at 0x42572e41518>"
      ]
     },
     "metadata": {},
     "output_type": "display_data"
    }
   ],
   "source": [
    "plt.plot(pdDataYear['review_count'])  "
   ]
  },
  {
   "cell_type": "code",
   "execution_count": 46,
   "metadata": {
    "collapsed": false
   },
   "outputs": [
    {
     "data": {
      "text/plain": [
       "<matplotlib.axes._subplots.AxesSubplot at 0x18fe822d2b0>"
      ]
     },
     "execution_count": 46,
     "metadata": {},
     "output_type": "execute_result"
    },
    {
     "data": {
      "image/png": "[encoded data removed]",
      "text/plain": [
       "<matplotlib.figure.Figure at 0x18fe81ccbe0>"
      ]
     },
     "metadata": {},
     "output_type": "display_data"
    }
   ],
   "source": [
    "pdData['average_stars'].plot.hist(bins=5, log =True)"
   ]
  },
  {
   "cell_type": "code",
   "execution_count": 44,
   "metadata": {
    "collapsed": false
   },
   "outputs": [
    {
     "data": {
      "text/plain": [
       "<matplotlib.collections.PathCollection at 0x18fe805e2b0>"
      ]
     },
     "execution_count": 44,
     "metadata": {},
     "output_type": "execute_result"
    },
    {
     "data": {
      "image/png": "[encoded data removed]",
      "text/plain": [
       "<matplotlib.figure.Figure at 0x18fe7fcea20>"
      ]
     },
     "metadata": {},
     "output_type": "display_data"
    }
   ],
   "source": [
    "plt.scatter(pdData['friends_count'], pdData['average_stars'])"
   ]
  },
  {
   "cell_type": "code",
   "execution_count": 111,
   "metadata": {
    "collapsed": false
   },
   "outputs": [
    {
     "name": "stdout",
     "output_type": "stream",
     "text": [
      "Int64Index([161097], dtype='int64')\n"
     ]
    }
   ],
   "source": [
    "ix = (pdData[pdData['user_id']=='VhI6xyylcAxi0wOy2HOX3w']['friends']).index\n",
    "print(ix)"
   ]
  },
  {
   "cell_type": "code",
   "execution_count": 85,
   "metadata": {
    "collapsed": false
   },
   "outputs": [],
   "source": [
    "IDs  = list(uniqueUsersIDs)"
   ]
  },
  {
   "cell_type": "code",
   "execution_count": 92,
   "metadata": {
    "collapsed": false
   },
   "outputs": [
    {
     "data": {
      "text/plain": [
       "552339"
      ]
     },
     "execution_count": 92,
     "metadata": {},
     "output_type": "execute_result"
    }
   ],
   "source": [
    "len(IDs)"
   ]
  },
  {
   "cell_type": "code",
   "execution_count": 105,
   "metadata": {
    "collapsed": false
   },
   "outputs": [
    {
     "name": "stdout",
     "output_type": "stream",
     "text": [
      "['hDLcXbaavWLO78YedYN_CA', 'AzTPtN_WvmvRXtR_DIX_Ww', 'o7pSN6b_zcqVswzqlA--tw', '6PpC43sX-2JIYs1Zdvq_rQ']\n"
     ]
    }
   ],
   "source": [
    "print(pdData.loc[110,'friends'])"
   ]
  },
  {
   "cell_type": "code",
   "execution_count": 125,
   "metadata": {
    "collapsed": false
   },
   "outputs": [
    {
     "data": {
      "text/plain": [
       "True"
      ]
     },
     "execution_count": 125,
     "metadata": {},
     "output_type": "execute_result"
    }
   ],
   "source": [
    "int(pdData[pdData['user_id'] == 'AzTPtN_WvmvRXtR_DIX_Ww']['friends_count']) >0 "
   ]
  },
  {
   "cell_type": "code",
   "execution_count": 136,
   "metadata": {
    "collapsed": false
   },
   "outputs": [
    {
     "data": {
      "text/html": [
       "<div>\n",
       "<table border=\"1\" class=\"dataframe\">\n",
       "  <thead>\n",
       "    <tr style=\"text-align: right;\">\n",
       "      <th></th>\n",
       "      <th>average_stars</th>\n",
       "      <th>fans</th>\n",
       "      <th>review_count</th>\n",
       "      <th>friends_count</th>\n",
       "    </tr>\n",
       "  </thead>\n",
       "  <tbody>\n",
       "    <tr>\n",
       "      <th>count</th>\n",
       "      <td>249440.000000</td>\n",
       "      <td>249440.000000</td>\n",
       "      <td>249440.000000</td>\n",
       "      <td>249440.000000</td>\n",
       "    </tr>\n",
       "    <tr>\n",
       "      <th>mean</th>\n",
       "      <td>3.853881</td>\n",
       "      <td>2.756915</td>\n",
       "      <td>50.722318</td>\n",
       "      <td>14.287271</td>\n",
       "    </tr>\n",
       "    <tr>\n",
       "      <th>std</th>\n",
       "      <td>0.834918</td>\n",
       "      <td>15.833263</td>\n",
       "      <td>125.290792</td>\n",
       "      <td>55.946149</td>\n",
       "    </tr>\n",
       "    <tr>\n",
       "      <th>min</th>\n",
       "      <td>0.000000</td>\n",
       "      <td>0.000000</td>\n",
       "      <td>0.000000</td>\n",
       "      <td>1.000000</td>\n",
       "    </tr>\n",
       "    <tr>\n",
       "      <th>25%</th>\n",
       "      <td>3.500000</td>\n",
       "      <td>0.000000</td>\n",
       "      <td>4.000000</td>\n",
       "      <td>1.000000</td>\n",
       "    </tr>\n",
       "    <tr>\n",
       "      <th>50%</th>\n",
       "      <td>3.910000</td>\n",
       "      <td>0.000000</td>\n",
       "      <td>12.000000</td>\n",
       "      <td>3.000000</td>\n",
       "    </tr>\n",
       "    <tr>\n",
       "      <th>75%</th>\n",
       "      <td>4.380000</td>\n",
       "      <td>2.000000</td>\n",
       "      <td>42.000000</td>\n",
       "      <td>10.000000</td>\n",
       "    </tr>\n",
       "    <tr>\n",
       "      <th>max</th>\n",
       "      <td>5.000000</td>\n",
       "      <td>1657.000000</td>\n",
       "      <td>10320.000000</td>\n",
       "      <td>3812.000000</td>\n",
       "    </tr>\n",
       "  </tbody>\n",
       "</table>\n",
       "</div>"
      ],
      "text/plain": [
       "       average_stars           fans   review_count  friends_count\n",
       "count  249440.000000  249440.000000  249440.000000  249440.000000\n",
       "mean        3.853881       2.756915      50.722318      14.287271\n",
       "std         0.834918      15.833263     125.290792      55.946149\n",
       "min         0.000000       0.000000       0.000000       1.000000\n",
       "25%         3.500000       0.000000       4.000000       1.000000\n",
       "50%         3.910000       0.000000      12.000000       3.000000\n",
       "75%         4.380000       2.000000      42.000000      10.000000\n",
       "max         5.000000    1657.000000   10320.000000    3812.000000"
      ]
     },
     "execution_count": 136,
     "metadata": {},
     "output_type": "execute_result"
    }
   ],
   "source": [
    "(pdData[pdData['friends_count'] >0]).describe()"
   ]
  },
  {
   "cell_type": "code",
   "execution_count": 138,
   "metadata": {
    "collapsed": false
   },
   "outputs": [
    {
     "data": {
      "text/plain": [
       "count    249440.000000\n",
       "mean         14.287271\n",
       "std          55.946149\n",
       "min           1.000000\n",
       "25%           1.000000\n",
       "50%           3.000000\n",
       "75%          10.000000\n",
       "max        3812.000000\n",
       "Name: friends_count, dtype: float64"
      ]
     },
     "execution_count": 138,
     "metadata": {},
     "output_type": "execute_result"
    }
   ],
   "source": [
    "(pdData[pdData['friends_count'] >0][\"friends_count\"]).describe()"
   ]
  },
  {
   "cell_type": "code",
   "execution_count": 153,
   "metadata": {
    "collapsed": false
   },
   "outputs": [
    {
     "name": "stdout",
     "output_type": "stream",
     "text": [
      "133760\n"
     ]
    }
   ],
   "source": [
    "largestCC = set() \n",
    "maxDegreeUser = pdData['friends_count'].argmax() \n",
    "print(maxDegreeUser)"
   ]
  },
  {
   "cell_type": "code",
   "execution_count": 194,
   "metadata": {
    "collapsed": false
   },
   "outputs": [],
   "source": [
    "import queue \n",
    "\n",
    "q = queue.Queue()\n",
    "q.put(maxDegreeUser) # (pdData[maxDegreeUser]['user_id'])\n",
    "\n",
    "largestCC = {maxDegreeUser}\n",
    "\n",
    "while not q.empty() : \n",
    "    item = q.get()\n",
    "    friendList = pdData.loc[item,'friends']\n",
    "    for friend in friendList: \n",
    "        friendRow = (pdData[pdData['user_id'] == friend].index)[0] \n",
    "        #print(friendRow)\n",
    "        if friendRow not in largestCC: \n",
    "            largestCC.add(friendRow)\n",
    "            q.put(friendRow)\n",
    "         "
   ]
  },
  {
   "cell_type": "code",
   "execution_count": 195,
   "metadata": {
    "collapsed": false
   },
   "outputs": [
    {
     "name": "stdout",
     "output_type": "stream",
     "text": [
      "3813\n"
     ]
    }
   ],
   "source": [
    "print(len(largestCC))"
   ]
  }
 ],
 "metadata": {
  "kernelspec": {
   "display_name": "Python 3",
   "language": "python",
   "name": "python3"
  },
  "language_info": {
   "codemirror_mode": {
    "name": "ipython",
    "version": 3
   },
   "file_extension": ".py",
   "mimetype": "text/x-python",
   "name": "python",
   "nbconvert_exporter": "python",
   "pygments_lexer": "ipython3",
   "version": "3.5.1"
  }
 },
 "nbformat": 4,
 "nbformat_minor": 0
}
